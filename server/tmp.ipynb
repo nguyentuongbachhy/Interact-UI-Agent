{
 "cells": [
  {
   "cell_type": "code",
   "execution_count": 1,
   "id": "17fada7c",
   "metadata": {},
   "outputs": [],
   "source": [
    "from agent.factory import create_ui_agent\n",
    "from langchain_core.messages import HumanMessage"
   ]
  },
  {
   "cell_type": "code",
   "execution_count": 2,
   "id": "a14adbae",
   "metadata": {},
   "outputs": [],
   "source": [
    "agent = await create_ui_agent(\"1\")"
   ]
  },
  {
   "cell_type": "code",
   "execution_count": null,
   "id": "bdb655ff",
   "metadata": {},
   "outputs": [
    {
     "name": "stdout",
     "output_type": "stream",
     "text": [
      "{'chunk': {'messages': [AIMessage(content='I will navigate to the products page for you. \\n\\nExecuting the navigation now.', additional_kwargs={'tool_calls': [{'index': 0, 'id': 'call_EEU7g4sT0cfbssISvRkEVbZR', 'function': {'arguments': '{\"path\":\"/products\"}', 'name': 'navigate_to'}, 'type': 'function'}]}, response_metadata={'finish_reason': 'tool_calls', 'model_name': 'gpt-4o-mini-2024-07-18', 'system_fingerprint': 'fp_51db84afab', 'service_tier': 'default'}, id='run--930ff998-eb38-4766-8a87-4864b79573e9', tool_calls=[{'name': 'navigate_to', 'args': {'path': '/products'}, 'id': 'call_EEU7g4sT0cfbssISvRkEVbZR', 'type': 'tool_call'}])]}}\n",
      "{'chunk': {'agent': {'messages': [AIMessage(content='I will navigate to the products page for you. \\n\\nExecuting the navigation now.', additional_kwargs={'tool_calls': [{'index': 0, 'id': 'call_EEU7g4sT0cfbssISvRkEVbZR', 'function': {'arguments': '{\"path\":\"/products\"}', 'name': 'navigate_to'}, 'type': 'function'}]}, response_metadata={'finish_reason': 'tool_calls', 'model_name': 'gpt-4o-mini-2024-07-18', 'system_fingerprint': 'fp_51db84afab', 'service_tier': 'default'}, id='run--930ff998-eb38-4766-8a87-4864b79573e9', tool_calls=[{'name': 'navigate_to', 'args': {'path': '/products'}, 'id': 'call_EEU7g4sT0cfbssISvRkEVbZR', 'type': 'tool_call'}])]}}}\n",
      "--\n",
      "Starting tool: navigate_to with inputs: {'path': '/products'}\n",
      "Done tool: navigate_to\n",
      "Tool output was: content=\"Navigated to '/products' successfully\" name='navigate_to' tool_call_id='call_EEU7g4sT0cfbssISvRkEVbZR'\n",
      "--\n",
      "{'chunk': {'messages': [ToolMessage(content=\"Navigated to '/products' successfully\", name='navigate_to', tool_call_id='call_EEU7g4sT0cfbssISvRkEVbZR')]}}\n",
      "{'chunk': {'tools': {'messages': [ToolMessage(content=\"Navigated to '/products' successfully\", name='navigate_to', id='ee2bcef4-9235-403a-b281-1fe12b6360ec', tool_call_id='call_EEU7g4sT0cfbssISvRkEVbZR')]}}}\n",
      "{'chunk': {'messages': [AIMessage(content='You have been successfully navigated to the products page. If you need any further assistance, feel free to ask!', additional_kwargs={}, response_metadata={'finish_reason': 'stop', 'model_name': 'gpt-4o-mini-2024-07-18', 'system_fingerprint': 'fp_51db84afab', 'service_tier': 'default'}, id='run--30d256c5-84be-4453-a29a-c54d09de03a8')]}}\n",
      "{'chunk': {'agent': {'messages': [AIMessage(content='You have been successfully navigated to the products page. If you need any further assistance, feel free to ask!', additional_kwargs={}, response_metadata={'finish_reason': 'stop', 'model_name': 'gpt-4o-mini-2024-07-18', 'system_fingerprint': 'fp_51db84afab', 'service_tier': 'default'}, id='run--30d256c5-84be-4453-a29a-c54d09de03a8')]}}}\n"
     ]
    }
   ],
   "source": [
    "async for event in agent.astream_events(input={\"messages\": [HumanMessage(\"I want to navigate to products page\")]}):\n",
    "    kind = event[\"event\"]\n",
    "    if kind == \"on_chain_start\":\n",
    "        if event[\"name\"] == \"Agent\":\n",
    "            print(f\"Starting agent: {event['name']} with input: {event['data'].get('input')}\")\n",
    "    elif kind == \"on_chain_end\":\n",
    "        if event[\"name\"] == \"Agent\":\n",
    "            print()\n",
    "            print(\"--\")\n",
    "            print(f\"Done agent: {event['name']} with output: {event['data'].get('output')['output']}\")\n",
    "    if kind == \"on_chain_stream\":\n",
    "        content = event[\"data\"]['chunk']['messages'][-1].content\n",
    "        if content:\n",
    "            print(content, end=\"|\")\n",
    "    elif kind == \"on_tool_start\":\n",
    "        print(\"--\")\n",
    "        print(f\"Starting tool: {event['name']} with inputs: {event['data'].get('input')}\")\n",
    "    elif kind == \"on_tool_end\":\n",
    "        print(f\"Done tool: {event['name']}\")\n",
    "        print(f\"Tool output was: {event['data'].get('output')}\")\n",
    "        print(\"--\")\n"
   ]
  }
 ],
 "metadata": {
  "kernelspec": {
   "display_name": "base",
   "language": "python",
   "name": "python3"
  },
  "language_info": {
   "codemirror_mode": {
    "name": "ipython",
    "version": 3
   },
   "file_extension": ".py",
   "mimetype": "text/x-python",
   "name": "python",
   "nbconvert_exporter": "python",
   "pygments_lexer": "ipython3",
   "version": "3.11.13"
  }
 },
 "nbformat": 4,
 "nbformat_minor": 5
}
